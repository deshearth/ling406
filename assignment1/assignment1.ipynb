{
 "cells": [
  {
   "cell_type": "markdown",
   "metadata": {},
   "source": [
    "# import modules"
   ]
  },
  {
   "cell_type": "code",
   "execution_count": 1,
   "metadata": {
    "collapsed": true
   },
   "outputs": [],
   "source": [
    "import re\n",
    "import operator"
   ]
  },
  {
   "cell_type": "markdown",
   "metadata": {},
   "source": [
    "# Function"
   ]
  },
  {
   "cell_type": "code",
   "execution_count": 2,
   "metadata": {
    "collapsed": true
   },
   "outputs": [],
   "source": [
    "def entityRecog(fName):\n",
    "    \"Recogize some date expression. Do not involve semantic analysis\"\n",
    "    \n",
    "    # get the input\n",
    "    f = open(fName+'.txt', 'r')\n",
    "    article = [line for line in f]\n",
    "    f.close()\n",
    "    article = ''.join(article)\n",
    "    \n",
    "    # some simple date expressions\n",
    "    weekdays = \"(Monday|Tuesday|Wednesday|Thursday|Friday|Saturday|Sunday)\"\n",
    "    holidays = \"(New Year’s Day|Birthday of Martin Luther King, Jr.|Washington’s Birthday|Memorial Day|Independence Day|Labor Day|Columbus Day|Veterans Day|Thanksgiving Day|Thanksgiving|Christmas Day|Christmas)\"\n",
    "    months = \"(J[Aa][Nn][.a-z]*|F[Ee][Bb][.a-z]*|M[Aa][Rr][.a-z]*|A[Pp][Rr][.a-z]*|M[Aa][Yy]|J[Uu][Nn][Ee]|J[Uu][Ll][Yy]|A[Uu][Gg][.a-z]*|S[Ee][Pp][Tt][.a-z]|O[Cc][Tt][.a-z]*|N[Oo][Vv][.a-z]*|D[Ee][Cc][.a-z]*)\"\n",
    "    year = \"((?<=\\s)\\d{4}|^\\d{4})\"\n",
    "\n",
    "    # some compound date expressions\n",
    "    #example: January 12, 1997\n",
    "    regex1 = months + '( [0-9]{1,2})?(th|en|rd|st)?(, [0-9]{4})?' \n",
    "    #example: Monday the 23rd\n",
    "    regex2 = weekdays + '( [Tt]he [0-9]{1,2})(th|en|rd|st)?'\n",
    "    #example: 01/15/2014\n",
    "    regex3_1 = '([0-9]{1,2}[-/][0-9]{1,2}[-/][0-9]{2,4})'\n",
    "    #example: 01/15\n",
    "    regex3_2 = '([0-9]{1,2}[-/][0-9]{1,2})'\n",
    "    #the 21st of the December\n",
    "    regex4 = '([Tt]he [0-9]{1,2})(th|en|rd|st of )' + months\n",
    "    \n",
    "    # find matched patterns\n",
    "    items = []\n",
    "    for regex in [regex1, regex2, regex3_1, regex3_2, regex4, holidays, year]:\n",
    "        for p in re.finditer(regex, article, re.MULTILINE):\n",
    "            items.append((p.span(), p.group()))\n",
    "            \n",
    "    \n",
    "    # some regular expressions are nested, like \"regex\" and \"year\", therefore, need to remove the redundant part\n",
    "    # span is a method that gives the location of matched string. The way to remove the redundant part is that\n",
    "    # first, sort all matched string in the order of the appearance in the article, i.e. first matched string is\n",
    "    # placed at the head of the list; then if the position of next matched string includes the position of the \n",
    "    # position of previous matched string, pop the previous string and push current one.\n",
    "    items = sorted(items, key=operator.itemgetter(0))\n",
    "    #print items\n",
    "    #print items\n",
    "    result = [items[0][1]]\n",
    "    result = []\n",
    "    for i in xrange(0, len(items)):\n",
    "        flag = 1\n",
    "        for j in xrange(0, len(items)):\n",
    "            if i == j:\n",
    "                continue\n",
    "            if (items[i][0][0] >= items[j][0][0] and items[i][0][1] == items[j][0][1] or\n",
    "                items[i][0][0] == items[j][0][0] and items[i][0][1] <= items[j][0][1]):\n",
    "                flag = 0\n",
    "                break\n",
    "        if flag:\n",
    "            result.append(items[i][1])\n",
    "    #for i in xrange(1, len(items)):\n",
    "        #if items[i][0][0] >= items[i-1][0][1]:\n",
    "            #result.append(items[i][1])\n",
    "    for date in result:\n",
    "        print date"
   ]
  },
  {
   "cell_type": "markdown",
   "metadata": {},
   "source": [
    "# Test"
   ]
  },
  {
   "cell_type": "markdown",
   "metadata": {},
   "source": [
    "please input the name of the test file.\n",
    "Do not include the suffix.\n",
    "Valid exmaple:\n",
    "    fName = 'test'"
   ]
  },
  {
   "cell_type": "code",
   "execution_count": 3,
   "metadata": {
    "collapsed": false
   },
   "outputs": [
    {
     "name": "stdout",
     "output_type": "stream",
     "text": [
      "Dec. 6\n",
      "OCT. 13, 2015\n",
      "the 1st of December\n",
      "09/21/2014\n",
      "Monday the 23rd\n",
      "Christmas Day\n",
      "December.\n",
      "07/12\n",
      "March\n",
      "April\n",
      "March 21\n"
     ]
    }
   ],
   "source": [
    "fName = 'test'\n",
    "entityRecog(fName)"
   ]
  },
  {
   "cell_type": "code",
   "execution_count": null,
   "metadata": {
    "collapsed": true
   },
   "outputs": [],
   "source": []
  },
  {
   "cell_type": "code",
   "execution_count": null,
   "metadata": {
    "collapsed": true
   },
   "outputs": [],
   "source": []
  }
 ],
 "metadata": {
  "anaconda-cloud": {},
  "kernelspec": {
   "display_name": "Python [conda env:python2]",
   "language": "python",
   "name": "conda-env-python2-py"
  },
  "language_info": {
   "codemirror_mode": {
    "name": "ipython",
    "version": 2
   },
   "file_extension": ".py",
   "mimetype": "text/x-python",
   "name": "python",
   "nbconvert_exporter": "python",
   "pygments_lexer": "ipython2",
   "version": "2.7.12"
  }
 },
 "nbformat": 4,
 "nbformat_minor": 1
}
